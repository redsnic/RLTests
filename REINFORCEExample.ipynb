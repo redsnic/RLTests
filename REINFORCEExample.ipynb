{
 "cells": [
  {
   "cell_type": "markdown",
   "metadata": {},
   "source": [
    "### CartPole solved with a simple deep REINFORCE implementation"
   ]
  },
  {
   "cell_type": "code",
   "execution_count": null,
   "metadata": {},
   "outputs": [],
   "source": [
    "import torch\n",
    "from tqdm import tqdm\n",
    "import gymnasium as gym\n",
    "from RLTools.RLPolicies.REINFORCE import DiscreteREINFORCE\n",
    "# torch based implementation\n",
    "\n",
    "input_size = 4\n",
    "hidden_size = 4\n",
    "output_size = 2\n",
    "\n",
    "env = gym.make('CartPole-v1')\n",
    "\n",
    "network = torch.nn.Sequential(\n",
    "    torch.nn.Linear(input_size, hidden_size),\n",
    "    torch.nn.LeakyReLU(),\n",
    "    torch.nn.Linear(hidden_size, output_size),\n",
    "    torch.nn.Softmax(dim=-1)\n",
    ")\n",
    "\n",
    "policy = DiscreteREINFORCE(network) # DNN implementation of REINFORCE's policy\n",
    "\n",
    "optimizer = torch.optim.Adam(policy.parameters(), 0.01)\n",
    "\n",
    "### --- traing loop \n",
    "\n",
    "for _ in tqdm(range(1000)):\n",
    "    observation, info = env.reset()\n",
    "    \n",
    "    episode_over = False\n",
    "\n",
    "    rewards = []\n",
    "    actions = []\n",
    "    observations = [observation]\n",
    "    log_probs = []\n",
    "    \n",
    "    counter = 0\n",
    "    while not episode_over:\n",
    "        action, log_prob = policy.sample_training(observation)\n",
    "        actions.append(action)\n",
    "        log_probs.append(log_prob)\n",
    "\n",
    "        observation, reward, terminated, truncated, info = env.step(action)\n",
    "        rewards.append(reward)\n",
    "\n",
    "        counter += 1\n",
    "        episode_over = terminated or truncated\n",
    "        if not episode_over:\n",
    "            observations.append(observation)\n",
    "\n",
    "    loss = policy.reward(log_probs, rewards)\n",
    "    loss.backward()\n",
    "    optimizer.step()\n",
    "    optimizer.zero_grad()\n",
    "\n",
    "env.close()"
   ]
  },
  {
   "cell_type": "markdown",
   "metadata": {},
   "source": [
    "### Visualization"
   ]
  },
  {
   "cell_type": "code",
   "execution_count": null,
   "metadata": {},
   "outputs": [],
   "source": [
    "\n",
    "env = gym.make('CartPole-v1', render_mode=\"human\")\n",
    "\n",
    "for _ in range(10):\n",
    "    observation, info = env.reset()\n",
    "\n",
    "\n",
    "    episode_over = False\n",
    "\n",
    "    rewards = []\n",
    "    actions = []\n",
    "    observations = [observation]\n",
    "\n",
    "    counter = 0\n",
    "    while not episode_over:\n",
    "\n",
    "        #action = env.action_space.sample()  # agent policy that uses the observation and info\n",
    "        action = policy.sample_best(observation)\n",
    "        actions.append(action)\n",
    "\n",
    "\n",
    "        observation, reward, terminated, truncated, info = env.step(action)\n",
    "        rewards.append(reward)\n",
    "        # print(counter)\n",
    "        counter +=1\n",
    "        episode_over = counter > 100 #terminated or truncated#counter > 100 #truncated #terminated # or truncated\n",
    "        if not episode_over:\n",
    "            observations.append(observation)\n",
    "\n",
    "    #gradients = policy.policy_gradient(actions, rewards, observations)\n",
    "    #policy.update(0.01, gradients)\n",
    "\n",
    "env.close()"
   ]
  }
 ],
 "metadata": {
  "kernelspec": {
   "display_name": ".venv",
   "language": "python",
   "name": "python3"
  },
  "language_info": {
   "codemirror_mode": {
    "name": "ipython",
    "version": 3
   },
   "file_extension": ".py",
   "mimetype": "text/x-python",
   "name": "python",
   "nbconvert_exporter": "python",
   "pygments_lexer": "ipython3",
   "version": "3.11.11"
  }
 },
 "nbformat": 4,
 "nbformat_minor": 2
}
