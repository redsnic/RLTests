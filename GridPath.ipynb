{
 "cells": [
  {
   "cell_type": "markdown",
   "id": "31cb1753",
   "metadata": {},
   "source": [
    "### Small example of the REINFORCE algorithm on a GridPath problem\n",
    "\n",
    "We first create a simple enviroment, a grid word with boundaries plus obstacles (X). We want to reach the goal (G) from the current position of the agent (A)."
   ]
  },
  {
   "cell_type": "code",
   "execution_count": 2,
   "id": "069edc91",
   "metadata": {},
   "outputs": [
    {
     "name": "stdout",
     "output_type": "stream",
     "text": [
      " . . . . \n",
      " .X. . . \n",
      " . .X.A. \n",
      " . . .X. \n",
      " . . . .G\n",
      "\n"
     ]
    }
   ],
   "source": [
    "from RLTools.Envs.GridEnv import GridEnv\n",
    "\n",
    "env = GridEnv(size=5)\n",
    "env.set_obstacles([(1, 1), (2, 2), (3, 3)])\n",
    "env.render(mode='human')\n",
    "env.close()"
   ]
  },
  {
   "cell_type": "code",
   "execution_count": 3,
   "id": "a45cbd8c",
   "metadata": {},
   "outputs": [
    {
     "name": "stderr",
     "output_type": "stream",
     "text": [
      " 23%|██▎       | 22685/100000 [01:06<03:47, 340.30it/s]\n"
     ]
    },
    {
     "ename": "KeyboardInterrupt",
     "evalue": "",
     "output_type": "error",
     "traceback": [
      "\u001b[0;31m---------------------------------------------------------------------------\u001b[0m",
      "\u001b[0;31mKeyboardInterrupt\u001b[0m                         Traceback (most recent call last)",
      "Cell \u001b[0;32mIn[3], line 50\u001b[0m\n\u001b[1;32m     46\u001b[0m \u001b[38;5;66;03m# if sum(rewards) > 0:\u001b[39;00m\n\u001b[1;32m     47\u001b[0m \u001b[38;5;66;03m#     print(sum(rewards), len(rewards))\u001b[39;00m\n\u001b[1;32m     49\u001b[0m loss \u001b[38;5;241m=\u001b[39m policy\u001b[38;5;241m.\u001b[39mreward(log_probs, rewards)\n\u001b[0;32m---> 50\u001b[0m \u001b[43mloss\u001b[49m\u001b[38;5;241;43m.\u001b[39;49m\u001b[43mbackward\u001b[49m\u001b[43m(\u001b[49m\u001b[43m)\u001b[49m\n\u001b[1;32m     51\u001b[0m optimizer\u001b[38;5;241m.\u001b[39mstep()\n\u001b[1;32m     52\u001b[0m optimizer\u001b[38;5;241m.\u001b[39mzero_grad()\n",
      "File \u001b[0;32m/local0/scratch/git/RLTests/.venv/lib/python3.11/site-packages/torch/_tensor.py:522\u001b[0m, in \u001b[0;36mTensor.backward\u001b[0;34m(self, gradient, retain_graph, create_graph, inputs)\u001b[0m\n\u001b[1;32m    512\u001b[0m \u001b[38;5;28;01mif\u001b[39;00m has_torch_function_unary(\u001b[38;5;28mself\u001b[39m):\n\u001b[1;32m    513\u001b[0m     \u001b[38;5;28;01mreturn\u001b[39;00m handle_torch_function(\n\u001b[1;32m    514\u001b[0m         Tensor\u001b[38;5;241m.\u001b[39mbackward,\n\u001b[1;32m    515\u001b[0m         (\u001b[38;5;28mself\u001b[39m,),\n\u001b[0;32m   (...)\u001b[0m\n\u001b[1;32m    520\u001b[0m         inputs\u001b[38;5;241m=\u001b[39minputs,\n\u001b[1;32m    521\u001b[0m     )\n\u001b[0;32m--> 522\u001b[0m \u001b[43mtorch\u001b[49m\u001b[38;5;241;43m.\u001b[39;49m\u001b[43mautograd\u001b[49m\u001b[38;5;241;43m.\u001b[39;49m\u001b[43mbackward\u001b[49m\u001b[43m(\u001b[49m\n\u001b[1;32m    523\u001b[0m \u001b[43m    \u001b[49m\u001b[38;5;28;43mself\u001b[39;49m\u001b[43m,\u001b[49m\u001b[43m \u001b[49m\u001b[43mgradient\u001b[49m\u001b[43m,\u001b[49m\u001b[43m \u001b[49m\u001b[43mretain_graph\u001b[49m\u001b[43m,\u001b[49m\u001b[43m \u001b[49m\u001b[43mcreate_graph\u001b[49m\u001b[43m,\u001b[49m\u001b[43m \u001b[49m\u001b[43minputs\u001b[49m\u001b[38;5;241;43m=\u001b[39;49m\u001b[43minputs\u001b[49m\n\u001b[1;32m    524\u001b[0m \u001b[43m\u001b[49m\u001b[43m)\u001b[49m\n",
      "File \u001b[0;32m/local0/scratch/git/RLTests/.venv/lib/python3.11/site-packages/torch/autograd/__init__.py:266\u001b[0m, in \u001b[0;36mbackward\u001b[0;34m(tensors, grad_tensors, retain_graph, create_graph, grad_variables, inputs)\u001b[0m\n\u001b[1;32m    261\u001b[0m     retain_graph \u001b[38;5;241m=\u001b[39m create_graph\n\u001b[1;32m    263\u001b[0m \u001b[38;5;66;03m# The reason we repeat the same comment below is that\u001b[39;00m\n\u001b[1;32m    264\u001b[0m \u001b[38;5;66;03m# some Python versions print out the first line of a multi-line function\u001b[39;00m\n\u001b[1;32m    265\u001b[0m \u001b[38;5;66;03m# calls in the traceback and some print out the last line\u001b[39;00m\n\u001b[0;32m--> 266\u001b[0m \u001b[43mVariable\u001b[49m\u001b[38;5;241;43m.\u001b[39;49m\u001b[43m_execution_engine\u001b[49m\u001b[38;5;241;43m.\u001b[39;49m\u001b[43mrun_backward\u001b[49m\u001b[43m(\u001b[49m\u001b[43m  \u001b[49m\u001b[38;5;66;43;03m# Calls into the C++ engine to run the backward pass\u001b[39;49;00m\n\u001b[1;32m    267\u001b[0m \u001b[43m    \u001b[49m\u001b[43mtensors\u001b[49m\u001b[43m,\u001b[49m\n\u001b[1;32m    268\u001b[0m \u001b[43m    \u001b[49m\u001b[43mgrad_tensors_\u001b[49m\u001b[43m,\u001b[49m\n\u001b[1;32m    269\u001b[0m \u001b[43m    \u001b[49m\u001b[43mretain_graph\u001b[49m\u001b[43m,\u001b[49m\n\u001b[1;32m    270\u001b[0m \u001b[43m    \u001b[49m\u001b[43mcreate_graph\u001b[49m\u001b[43m,\u001b[49m\n\u001b[1;32m    271\u001b[0m \u001b[43m    \u001b[49m\u001b[43minputs\u001b[49m\u001b[43m,\u001b[49m\n\u001b[1;32m    272\u001b[0m \u001b[43m    \u001b[49m\u001b[43mallow_unreachable\u001b[49m\u001b[38;5;241;43m=\u001b[39;49m\u001b[38;5;28;43;01mTrue\u001b[39;49;00m\u001b[43m,\u001b[49m\n\u001b[1;32m    273\u001b[0m \u001b[43m    \u001b[49m\u001b[43maccumulate_grad\u001b[49m\u001b[38;5;241;43m=\u001b[39;49m\u001b[38;5;28;43;01mTrue\u001b[39;49;00m\u001b[43m,\u001b[49m\n\u001b[1;32m    274\u001b[0m \u001b[43m\u001b[49m\u001b[43m)\u001b[49m\n",
      "\u001b[0;31mKeyboardInterrupt\u001b[0m: "
     ]
    }
   ],
   "source": [
    "import torch\n",
    "from tqdm import tqdm\n",
    "from RLTools.RLPolicies.REINFORCE import DiscreteREINFORCE\n",
    "\n",
    "input_size = 2\n",
    "hidden_size = 4\n",
    "output_size = 4\n",
    "\n",
    "network = torch.nn.Sequential(\n",
    "    torch.nn.Linear(input_size, hidden_size),\n",
    "    torch.nn.LeakyReLU(),\n",
    "    torch.nn.Linear(hidden_size, output_size),\n",
    "    torch.nn.Softmax(dim=-1)\n",
    ")\n",
    "\n",
    "policy = DiscreteREINFORCE(network)\n",
    "\n",
    "optimizer = torch.optim.Adam(policy.parameters(), 0.01)\n",
    "\n",
    "### --- training loop\n",
    "\n",
    "for _ in tqdm(range(100000)):\n",
    "    observation, info = env.reset()\n",
    "\n",
    "    episode_over = False\n",
    "\n",
    "    rewards = []\n",
    "    actions = []\n",
    "    observations = [observation]\n",
    "    log_probs = []\n",
    "    \n",
    "    counter = 0\n",
    "    while not episode_over:\n",
    "        action, log_prob = policy.sample_training(observation)\n",
    "        actions.append(action)\n",
    "        log_probs.append(log_prob)\n",
    "\n",
    "        observation, reward, terminated, truncated, info = env.step(action)\n",
    "        rewards.append(reward)\n",
    "        # print(observation, action, reward)\n",
    "\n",
    "        counter += 1\n",
    "        episode_over = terminated or truncated\n",
    "        if not episode_over:\n",
    "            observations.append(observation)\n",
    "\n",
    "    # if sum(rewards) > 0:\n",
    "    #     print(sum(rewards), len(rewards))\n",
    "\n",
    "    loss = policy.reward(log_probs, rewards)\n",
    "    loss.backward()\n",
    "    optimizer.step()\n",
    "    optimizer.zero_grad()\n",
    "\n",
    "env.close()\n"
   ]
  },
  {
   "cell_type": "markdown",
   "id": "9cd8bdf5",
   "metadata": {},
   "source": [
    "### Visualization"
   ]
  },
  {
   "cell_type": "code",
   "execution_count": 4,
   "id": "de4a5d37",
   "metadata": {},
   "outputs": [
    {
     "name": "stdout",
     "output_type": "stream",
     "text": [
      "A. . . . \n",
      " .X. . . \n",
      " . .X. . \n",
      " . . .X. \n",
      " . . . .G\n",
      "\n",
      "down\n",
      "-0.01\n",
      " . . . . \n",
      "A.X. . . \n",
      " . .X. . \n",
      " . . .X. \n",
      " . . . .G\n",
      "\n",
      "down\n",
      "-0.02\n",
      " . . . . \n",
      " .X. . . \n",
      "A. .X. . \n",
      " . . .X. \n",
      " . . . .G\n",
      "\n",
      "down\n",
      "-0.03\n",
      " . . . . \n",
      " .X. . . \n",
      " . .X. . \n",
      "A. . .X. \n",
      " . . . .G\n",
      "\n",
      "down\n",
      "-0.04\n",
      " . . . . \n",
      " .X. . . \n",
      " . .X. . \n",
      " . . .X. \n",
      "A. . . .G\n",
      "\n",
      "right\n",
      "-0.05\n",
      " . . . . \n",
      " .X. . . \n",
      " . .X. . \n",
      " . . .X. \n",
      " .A. . .G\n",
      "\n",
      "right\n",
      "-0.060000000000000005\n",
      " . . . . \n",
      " .X. . . \n",
      " . .X. . \n",
      " . . .X. \n",
      " . .A. .G\n",
      "\n",
      "right\n",
      "-0.07\n",
      " . . . . \n",
      " .X. . . \n",
      " . .X. . \n",
      " . . .X. \n",
      " . . .A.G\n",
      "\n",
      "right\n",
      "999.93\n",
      " . . . . \n",
      " .X. . . \n",
      " . .X. . \n",
      " . . .X. \n",
      " . . . .G\n",
      "\n"
     ]
    }
   ],
   "source": [
    "env = GridEnv(size=5) # new env\n",
    "env.set_obstacles([(1, 1), (2, 2), (3, 3)])\n",
    "\n",
    "for _ in range(1):\n",
    "\n",
    "    observation, info = env.reset(state=(0, 0))\n",
    "\n",
    "\n",
    "    episode_over = False\n",
    "\n",
    "    rewards = []\n",
    "    actions = []\n",
    "    observations = [observation]\n",
    "\n",
    "    counter = 0\n",
    "    while not episode_over:\n",
    "        env.render()\n",
    "\n",
    "        #action = env.action_space.sample()  # agent policy that uses the observation and info\n",
    "        action = policy.sample_best(observation)\n",
    "        actions.append(action)\n",
    "        print(env.translate_action_to_human(action))\n",
    "\n",
    "\n",
    "        observation, reward, terminated, truncated, info = env.step(action)\n",
    "        rewards.append(reward)\n",
    "        print(sum(rewards))\n",
    "        counter +=1\n",
    "        episode_over = terminated or truncated \n",
    "        if not episode_over:\n",
    "            observations.append(observation)\n",
    "\n",
    "env.render()\n",
    "env.close()"
   ]
  }
 ],
 "metadata": {
  "kernelspec": {
   "display_name": ".venv",
   "language": "python",
   "name": "python3"
  },
  "language_info": {
   "codemirror_mode": {
    "name": "ipython",
    "version": 3
   },
   "file_extension": ".py",
   "mimetype": "text/x-python",
   "name": "python",
   "nbconvert_exporter": "python",
   "pygments_lexer": "ipython3",
   "version": "3.11.11"
  }
 },
 "nbformat": 4,
 "nbformat_minor": 5
}
